{
 "cells": [
  {
   "cell_type": "markdown",
   "metadata": {},
   "source": [
    "# Fragmentation for train data\n",
    "Aquesta part del codi la fem perquè hem trobat problemes per pujar les dades al repositori  "
   ]
  },
  {
   "cell_type": "code",
   "execution_count": null,
   "metadata": {},
   "outputs": [],
   "source": [
    "num_art = 10\n",
    "# Numero d'artistes a agafar"
   ]
  },
  {
   "cell_type": "code",
   "execution_count": null,
   "metadata": {},
   "outputs": [],
   "source": [
    "import numpy as np # linear algebra\n",
    "import pandas as pd # data processing, CSV file I/O (e.g. pd.read_csv)\n",
    "%matplotlib inline\n",
    "import matplotlib.pyplot as plt\n",
    "from random import seed # for setting seed\n",
    "import tensorflow\n",
    "from IPython import sys_info\n",
    "import os\n",
    "import gc # garbage collection\n",
    "import shutil"
   ]
  },
  {
   "cell_type": "code",
   "execution_count": null,
   "metadata": {},
   "outputs": [],
   "source": [
    "directori_info = '../../all_data_info.csv'\n",
    "df = pd.read_csv(directori_info, sep=',')\n",
    "df"
   ]
  },
  {
   "cell_type": "code",
   "execution_count": null,
   "metadata": {},
   "outputs": [],
   "source": [
    "artist_dict = df['artist'].value_counts().to_dict()\n",
    "artist_dict"
   ]
  },
  {
   "cell_type": "code",
   "execution_count": null,
   "metadata": {},
   "outputs": [],
   "source": [
    "df['artist'].nunique()"
   ]
  },
  {
   "cell_type": "markdown",
   "metadata": {},
   "source": [
    "Per tant hi ha 2319 artistes diferents, i també sabem el numero de vegades que apareix cada artista"
   ]
  },
  {
   "cell_type": "code",
   "execution_count": null,
   "metadata": {},
   "outputs": [],
   "source": [
    "artist_dict = dict(sorted(artist_dict.items(), key=lambda item: item[1], reverse=True))\n",
    "artist_dict"
   ]
  },
  {
   "cell_type": "code",
   "execution_count": null,
   "metadata": {},
   "outputs": [],
   "source": [
    "artistes = list(artist_dict.keys())[:num_art]\n",
    "artistes"
   ]
  },
  {
   "cell_type": "code",
   "execution_count": null,
   "metadata": {},
   "outputs": [],
   "source": [
    "df_filtered = df[df['artist'].isin(artistes)]\n",
    "df_filtered"
   ]
  },
  {
   "cell_type": "code",
   "execution_count": null,
   "metadata": {},
   "outputs": [],
   "source": [
    "file_list = df_filtered['new_filename'].tolist()\n",
    "file_list"
   ]
  },
  {
   "cell_type": "code",
   "execution_count": null,
   "metadata": {},
   "outputs": [],
   "source": [
    "directori = '../..'\n",
    "content = os.listdir(directori)\n",
    "\n",
    "for c in content:\n",
    "    if \"train_\" in c:\n",
    "        if \"train_total_artists\" != c:\n",
    "            directori_folder = os.path.join(directori, c)\n",
    "            if os.path.isdir(directori_folder):\n",
    "                files = os.listdir(directori_folder)\n",
    "                for foto in files:\n",
    "                    if foto in file_list:\n",
    "                        rute = os.path.join(directori_folder, foto)\n",
    "                        rute_final = os.path.join('../../train_total_artists', foto)\n",
    "                        shutil.copyfile(rute, rute_final)\n",
    "# Això fa que les imatges passin a la nova carpeta"
   ]
  },
  {
   "cell_type": "code",
   "execution_count": null,
   "metadata": {},
   "outputs": [],
   "source": [
    "carpeta_destino = '../../train_total_artists'\n",
    "\n"
   ]
  }
 ],
 "metadata": {
  "kernelspec": {
   "display_name": "Python 3",
   "language": "python",
   "name": "python3"
  },
  "language_info": {
   "codemirror_mode": {
    "name": "ipython",
    "version": 3
   },
   "file_extension": ".py",
   "mimetype": "text/x-python",
   "name": "python",
   "nbconvert_exporter": "python",
   "pygments_lexer": "ipython3",
   "version": "3.9.13"
  }
 },
 "nbformat": 4,
 "nbformat_minor": 2
}
